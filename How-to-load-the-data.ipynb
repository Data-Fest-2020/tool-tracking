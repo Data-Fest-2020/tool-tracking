{
 "cells": [
  {
   "cell_type": "markdown",
   "metadata": {},
   "source": [
    "# How to load the Data\n",
    "\n",
    "Software setup:\n",
    "\n",
    "```bash\n",
    "conda create --name tool-tracking_env python=3.7\n",
    "conda activate tool-tracking_env\n",
    "pip install -r requirements.txt\n",
    "jupyter notebook\n",
    "```"
   ]
  },
  {
   "cell_type": "markdown",
   "metadata": {},
   "source": [
    "## 0. Structure of Tool Tracking Data"
   ]
  },
  {
   "cell_type": "markdown",
   "metadata": {},
   "source": [
    "You have one dedicated folder for each __(hand) tool__. On the next level are folders for each __measurement campaign__. The undermost level contains all __measurements__ of the corresponding measurement campaign.\n",
    "\n",
    "The preferred way to access the data for analysis and learning is using the `data-tools` package which is part of this repository.\n",
    "\n",
    "![data_structure](./info/structure_scheme.jpg)"
   ]
  },
  {
   "cell_type": "markdown",
   "metadata": {},
   "source": [
    "## 1. Load Data with `data-tools`\n",
    "\n",
    "First we have to connect to our downloaded data using the main class:"
   ]
  },
  {
   "cell_type": "code",
   "execution_count": 1,
   "metadata": {},
   "outputs": [],
   "source": [
    "from pathlib import Path\n",
    "from datatools.fixture import setup_dummy_data\n",
    "# test_tool\n",
    "# source = setup_dummy_data(5)\n",
    "\n",
    "# put data into this source folder\n",
    "source = \"./tool-tracking-data/\""
   ]
  },
  {
   "cell_type": "code",
   "execution_count": 2,
   "metadata": {
    "scrolled": true
   },
   "outputs": [],
   "source": [
    "from datatools import MeasurementDataReader, Measurement, MeasurementSeries, Action\n",
    "mdr = MeasurementDataReader(source=source)"
   ]
  },
  {
   "cell_type": "markdown",
   "metadata": {},
   "source": [
    "### 1.1 Create a Query to load _Measurements_ or _Actions_\n",
    "\n",
    "Using the `mdr` object we can create a `Query` object to formulate a query to the data source."
   ]
  },
  {
   "cell_type": "code",
   "execution_count": 3,
   "metadata": {},
   "outputs": [],
   "source": [
    "q = mdr.query(query_type=Measurement)"
   ]
  },
  {
   "cell_type": "markdown",
   "metadata": {},
   "source": [
    "Depending on the use case you can query for _Measurements_ which represents a temporal contiguous time series with inhomogeneous labels or _Actions_ which are parts of _Measurements_ but have the same label throughout their time range:\n",
    "\n",
    "```python\n",
    "from datatools import Action\n",
    "q = mdr.query(query_type=Action)\n",
    "```"
   ]
  },
  {
   "cell_type": "markdown",
   "metadata": {},
   "source": [
    "### 1.2 Narrow a Query to load _Measurements_ of interest"
   ]
  },
  {
   "cell_type": "code",
   "execution_count": 4,
   "metadata": {},
   "outputs": [
    {
     "name": "stderr",
     "output_type": "stream",
     "text": [
      "[INFO] Read annotation: 100%|██████████| 16/16 [00:00<00:00, 107.36it/s, file=data-03.annotation]"
     ]
    },
    {
     "name": "stdout",
     "output_type": "stream",
     "text": [
      "[INFO] Preparing data from:\n",
      "  tool-tracking-data/electric_screwdriver/pythagoras-10-20200716\n",
      "  tool-tracking-data/electric_screwdriver/pythagoras-10-20200716\n",
      "  tool-tracking-data/electric_screwdriver/pythagoras-10-20200716\n",
      "  tool-tracking-data/electric_screwdriver/pythagoras-10-20200716\n",
      "[WARN] The mean sampling rate from the filename (tool-tracking-data/electric_screwdriver/pythagoras-10-20200716/ACC-02-102.291.csv) and from the timestamps differ by 0.001Hz\n",
      "\n",
      "[WARN] The mean sampling rate from the filename (tool-tracking-data/electric_screwdriver/pythagoras-10-20200716/ACC-04-102.291.csv) and from the timestamps differ by 0.001Hz\n",
      "\n",
      "[WARN] The mean sampling rate from the filename (tool-tracking-data/electric_screwdriver/pythagoras-10-20200716/ACC-01-102.291.csv) and from the timestamps differ by 0.001Hz\n",
      "\n",
      "[WARN] The mean sampling rate from the filename (tool-tracking-data/electric_screwdriver/pythagoras-10-20200716/ACC-03-102.291.csv) and from the timestamps differ by 0.001Hz\n",
      "\n"
     ]
    },
    {
     "name": "stderr",
     "output_type": "stream",
     "text": [
      "\r",
      "[INFO] Read annotation: 100%|██████████| 16/16 [00:00<00:00, 72.35it/s, file=data-03.annotation] "
     ]
    },
    {
     "name": "stdout",
     "output_type": "stream",
     "text": [
      "[INFO] Finished with 4 measurement(s).\n"
     ]
    },
    {
     "name": "stderr",
     "output_type": "stream",
     "text": [
      "\n"
     ]
    }
   ],
   "source": [
    "from datatools import Tool, Config, MeasurementSeries, Measurement, DataTypes, Action\n",
    "from datatools import ACC, GYR, MAG, MIC, POS, VEL\n",
    "\n",
    "mytool = \"electric_screwdriver\"\n",
    "#mytool = \"pneumatic_screwdriver\"\n",
    "#mytool = \"pneumatic_rivet_gun\"\n",
    "#mytool = \"test_tool\"\n",
    "\n",
    "data_dict = q.filter_by(Tool == mytool, DataTypes == ACC).get()"
   ]
  },
  {
   "cell_type": "code",
   "execution_count": 5,
   "metadata": {},
   "outputs": [
    {
     "data": {
      "text/plain": [
       "dict_keys(['02', '04', '01', '03'])"
      ]
     },
     "execution_count": 5,
     "metadata": {},
     "output_type": "execute_result"
    }
   ],
   "source": [
    "data_dict.keys()  # we have loaded five measurements "
   ]
  },
  {
   "cell_type": "code",
   "execution_count": 6,
   "metadata": {},
   "outputs": [
    {
     "data": {
      "text/plain": [
       "datatools.data.DataBunch"
      ]
     },
     "execution_count": 6,
     "metadata": {},
     "output_type": "execute_result"
    }
   ],
   "source": [
    "data_bunch = data_dict[\"01\"] # data bunch for measurement with measurement id \"01\"\n",
    "type(data_bunch)  "
   ]
  },
  {
   "cell_type": "markdown",
   "metadata": {},
   "source": [
    "### 1.3 Interaction with the `DataBunch` class\n",
    "\n",
    "A DataBunch object is a dictionary-like object that exposes its keys as attributes. Access the data with `data_bunch.acc` or `data_bunch['audio']`. You can inspect which data is contained with:"
   ]
  },
  {
   "cell_type": "code",
   "execution_count": 7,
   "metadata": {},
   "outputs": [
    {
     "data": {
      "text/plain": [
       "['acc']"
      ]
     },
     "execution_count": 7,
     "metadata": {},
     "output_type": "execute_result"
    }
   ],
   "source": [
    "data_bunch.data_keys()"
   ]
  },
  {
   "cell_type": "code",
   "execution_count": 8,
   "metadata": {},
   "outputs": [
    {
     "data": {
      "text/plain": [
       "['acceleration x-axis [m/s^2]',\n",
       " 'acceleration y-axis [m/s^2]',\n",
       " 'acceleration z-axis [m/s^2]']"
      ]
     },
     "execution_count": 8,
     "metadata": {},
     "output_type": "execute_result"
    }
   ],
   "source": [
    "data_bunch.acc.features"
   ]
  },
  {
   "cell_type": "code",
   "execution_count": 9,
   "metadata": {},
   "outputs": [],
   "source": [
    "# matrix with raw sensor data with time column\n",
    "Xt = data_bunch.acc.ts # numpy array\n",
    "\n",
    "# matrix with raw sensor data (without time column)\n",
    "X = data_bunch.acc.X  # numpy array\n",
    "\n",
    "# target vector\n",
    "y = data_bunch.acc.y  # numpy array"
   ]
  },
  {
   "cell_type": "code",
   "execution_count": 10,
   "metadata": {},
   "outputs": [
    {
     "name": "stdout",
     "output_type": "stream",
     "text": [
      "shape of Xt:  (41775, 4)\n",
      "shape of X:  (41775, 3)\n",
      "shape of y:  (41775,)\n"
     ]
    }
   ],
   "source": [
    "print(\"shape of Xt: \", Xt.shape)\n",
    "print(\"shape of X: \", X.shape)\n",
    "print(\"shape of y: \", y.shape)"
   ]
  },
  {
   "cell_type": "markdown",
   "metadata": {},
   "source": [
    "### 1.4 Narrow a Query to load _Actions_ of interest"
   ]
  },
  {
   "cell_type": "code",
   "execution_count": 11,
   "metadata": {},
   "outputs": [
    {
     "name": "stderr",
     "output_type": "stream",
     "text": [
      "[INFO] Read data:  19%|█▉        | 3/16 [00:00<00:00, 25.34it/s, file=MAG-02-154.679.csv]"
     ]
    },
    {
     "name": "stdout",
     "output_type": "stream",
     "text": [
      "[INFO] Preparing data from:\n",
      "  tool-tracking-data/electric_screwdriver/pythagoras-10-20200716\n",
      "  tool-tracking-data/electric_screwdriver/pythagoras-10-20200716\n",
      "  tool-tracking-data/electric_screwdriver/pythagoras-10-20200716\n",
      "  tool-tracking-data/electric_screwdriver/pythagoras-10-20200716\n",
      "[WARN] The mean sampling rate from the filename (tool-tracking-data/electric_screwdriver/pythagoras-10-20200716/MAG-04-154.967.csv) and from the timestamps differ by 0.001Hz\n",
      "\n",
      "[WARN] The mean sampling rate from the filename (tool-tracking-data/electric_screwdriver/pythagoras-10-20200716/ACC-02-102.291.csv) and from the timestamps differ by 0.001Hz\n",
      "\n",
      "[WARN] The mean sampling rate from the filename (tool-tracking-data/electric_screwdriver/pythagoras-10-20200716/MAG-02-154.679.csv) and from the timestamps differ by 0.001Hz\n",
      "\n",
      "[WARN] The mean sampling rate from the filename (tool-tracking-data/electric_screwdriver/pythagoras-10-20200716/GYR-02-102.291.csv) and from the timestamps differ by 0.001Hz\n",
      "\n",
      "[WARN] The mean sampling rate from the filename (tool-tracking-data/electric_screwdriver/pythagoras-10-20200716/GYR-01-102.291.csv) and from the timestamps differ by 0.001Hz\n",
      "\n"
     ]
    },
    {
     "name": "stderr",
     "output_type": "stream",
     "text": [
      "\r",
      "[INFO] Read data:  38%|███▊      | 6/16 [00:00<00:00, 25.91it/s, file=MAG-01-155.087.csv]"
     ]
    },
    {
     "name": "stdout",
     "output_type": "stream",
     "text": [
      "[WARN] The mean sampling rate from the filename (tool-tracking-data/electric_screwdriver/pythagoras-10-20200716/MAG-01-155.087.csv) and from the timestamps differ by 0.001Hz\n",
      "\n",
      "[WARN] The mean sampling rate from the filename (tool-tracking-data/electric_screwdriver/pythagoras-10-20200716/ACC-04-102.291.csv) and from the timestamps differ by 0.001Hz\n",
      "\n"
     ]
    },
    {
     "name": "stderr",
     "output_type": "stream",
     "text": [
      "[INFO] Read data:  75%|███████▌  | 12/16 [00:01<00:00, 10.23it/s, file=ACC-03-102.291.csv]"
     ]
    },
    {
     "name": "stdout",
     "output_type": "stream",
     "text": [
      "[WARN] The mean sampling rate from the filename (tool-tracking-data/electric_screwdriver/pythagoras-10-20200716/ACC-01-102.291.csv) and from the timestamps differ by 0.001Hz\n",
      "\n",
      "[WARN] The mean sampling rate from the filename (tool-tracking-data/electric_screwdriver/pythagoras-10-20200716/GYR-04-102.291.csv) and from the timestamps differ by 0.001Hz\n",
      "\n",
      "[WARN] The mean sampling rate from the filename (tool-tracking-data/electric_screwdriver/pythagoras-10-20200716/GYR-03-102.291.csv) and from the timestamps differ by 0.001Hz\n",
      "\n",
      "[WARN] The mean sampling rate from the filename (tool-tracking-data/electric_screwdriver/pythagoras-10-20200716/ACC-03-102.291.csv) and from the timestamps differ by 0.001Hz\n",
      "\n"
     ]
    },
    {
     "name": "stderr",
     "output_type": "stream",
     "text": [
      "\r",
      "[INFO] Read data:  88%|████████▊ | 14/16 [00:01<00:00,  6.48it/s, file=MAG-03-154.871.csv]"
     ]
    },
    {
     "name": "stdout",
     "output_type": "stream",
     "text": [
      "[WARN] The mean sampling rate from the filename (tool-tracking-data/electric_screwdriver/pythagoras-10-20200716/MAG-03-154.871.csv) and from the timestamps differ by 0.002Hz\n",
      "\n"
     ]
    },
    {
     "name": "stderr",
     "output_type": "stream",
     "text": [
      "[INFO] Read annotation: 100%|██████████| 16/16 [00:03<00:00,  4.32it/s, file=data-03.annotation]\n"
     ]
    },
    {
     "name": "stdout",
     "output_type": "stream",
     "text": [
      "[INFO] Finished with 79 action(s).\n"
     ]
    }
   ],
   "source": [
    "data_dict = mdr.query(query_type=Action).filter_by(Action == \"tightening\", Tool == mytool).get()"
   ]
  },
  {
   "cell_type": "code",
   "execution_count": 12,
   "metadata": {},
   "outputs": [
    {
     "data": {
      "text/plain": [
       "dict_keys(['tightening'])"
      ]
     },
     "execution_count": 12,
     "metadata": {},
     "output_type": "execute_result"
    }
   ],
   "source": [
    "data_dict.keys()  # the data is now grouped by actions"
   ]
  },
  {
   "cell_type": "code",
   "execution_count": 13,
   "metadata": {},
   "outputs": [
    {
     "name": "stdout",
     "output_type": "stream",
     "text": [
      "<class 'list'> of <class 'datatools.data.DataBunch'>\n"
     ]
    }
   ],
   "source": [
    "data_bunches = data_dict[\"tightening\"]\n",
    "print(f\"{type(data_bunches)} of {type(data_bunches[0])}\")"
   ]
  },
  {
   "cell_type": "markdown",
   "metadata": {},
   "source": [
    "## 2. Create windowed Time-Series"
   ]
  },
  {
   "cell_type": "code",
   "execution_count": 14,
   "metadata": {},
   "outputs": [],
   "source": [
    "import numpy as np\n",
    "from seglearn.base import TS_Data\n",
    "from seglearn.pipe import Pype\n",
    "from fhgutils import Segment, contextual_recarray_dtype, filter_ts_data\n",
    "from datatools import to_ts_data"
   ]
  },
  {
   "cell_type": "markdown",
   "metadata": {},
   "source": [
    "> Note: `to_ts_data` can deal with the output when querying _Measurements_ as well as _Actions_\n",
    "\n",
    "Have a look on the seglearn [user guide](https://dmbee.github.io/seglearn/user_guide.html) to understand the data representation with `Xt` and `Xc`."
   ]
  },
  {
   "cell_type": "code",
   "execution_count": 15,
   "metadata": {},
   "outputs": [
    {
     "name": "stderr",
     "output_type": "stream",
     "text": [
      "[INFO] Read data:  19%|█▉        | 3/16 [00:00<00:00, 23.98it/s, file=MAG-02-154.679.csv]"
     ]
    },
    {
     "name": "stdout",
     "output_type": "stream",
     "text": [
      "[INFO] Preparing data from:\n",
      "  tool-tracking-data/electric_screwdriver/pythagoras-10-20200716\n",
      "  tool-tracking-data/electric_screwdriver/pythagoras-10-20200716\n",
      "  tool-tracking-data/electric_screwdriver/pythagoras-10-20200716\n",
      "  tool-tracking-data/electric_screwdriver/pythagoras-10-20200716\n",
      "[WARN] The mean sampling rate from the filename (tool-tracking-data/electric_screwdriver/pythagoras-10-20200716/MAG-04-154.967.csv) and from the timestamps differ by 0.001Hz\n",
      "\n",
      "[WARN] The mean sampling rate from the filename (tool-tracking-data/electric_screwdriver/pythagoras-10-20200716/ACC-02-102.291.csv) and from the timestamps differ by 0.001Hz\n",
      "\n",
      "[WARN] The mean sampling rate from the filename (tool-tracking-data/electric_screwdriver/pythagoras-10-20200716/MAG-02-154.679.csv) and from the timestamps differ by 0.001Hz\n",
      "\n",
      "[WARN] The mean sampling rate from the filename (tool-tracking-data/electric_screwdriver/pythagoras-10-20200716/GYR-02-102.291.csv) and from the timestamps differ by 0.001Hz\n",
      "\n",
      "[WARN] The mean sampling rate from the filename (tool-tracking-data/electric_screwdriver/pythagoras-10-20200716/GYR-01-102.291.csv) and from the timestamps differ by 0.001Hz\n",
      "\n"
     ]
    },
    {
     "name": "stderr",
     "output_type": "stream",
     "text": [
      "\r",
      "[INFO] Read data:  38%|███▊      | 6/16 [00:00<00:00, 24.77it/s, file=MAG-01-155.087.csv]"
     ]
    },
    {
     "name": "stdout",
     "output_type": "stream",
     "text": [
      "[WARN] The mean sampling rate from the filename (tool-tracking-data/electric_screwdriver/pythagoras-10-20200716/MAG-01-155.087.csv) and from the timestamps differ by 0.001Hz\n",
      "\n",
      "[WARN] The mean sampling rate from the filename (tool-tracking-data/electric_screwdriver/pythagoras-10-20200716/ACC-04-102.291.csv) and from the timestamps differ by 0.001Hz\n",
      "\n"
     ]
    },
    {
     "name": "stderr",
     "output_type": "stream",
     "text": [
      "[INFO] Read data:  75%|███████▌  | 12/16 [00:01<00:00,  9.98it/s, file=ACC-03-102.291.csv]"
     ]
    },
    {
     "name": "stdout",
     "output_type": "stream",
     "text": [
      "[WARN] The mean sampling rate from the filename (tool-tracking-data/electric_screwdriver/pythagoras-10-20200716/ACC-01-102.291.csv) and from the timestamps differ by 0.001Hz\n",
      "\n",
      "[WARN] The mean sampling rate from the filename (tool-tracking-data/electric_screwdriver/pythagoras-10-20200716/GYR-04-102.291.csv) and from the timestamps differ by 0.001Hz\n",
      "\n",
      "[WARN] The mean sampling rate from the filename (tool-tracking-data/electric_screwdriver/pythagoras-10-20200716/GYR-03-102.291.csv) and from the timestamps differ by 0.001Hz\n",
      "\n",
      "[WARN] The mean sampling rate from the filename (tool-tracking-data/electric_screwdriver/pythagoras-10-20200716/ACC-03-102.291.csv) and from the timestamps differ by 0.001Hz\n",
      "\n"
     ]
    },
    {
     "name": "stderr",
     "output_type": "stream",
     "text": [
      "\r",
      "[INFO] Read data:  88%|████████▊ | 14/16 [00:01<00:00,  6.51it/s, file=MAG-03-154.871.csv]"
     ]
    },
    {
     "name": "stdout",
     "output_type": "stream",
     "text": [
      "[WARN] The mean sampling rate from the filename (tool-tracking-data/electric_screwdriver/pythagoras-10-20200716/MAG-03-154.871.csv) and from the timestamps differ by 0.002Hz\n",
      "\n"
     ]
    },
    {
     "name": "stderr",
     "output_type": "stream",
     "text": [
      "[INFO] Read annotation: 100%|██████████| 16/16 [00:03<00:00,  4.38it/s, file=data-03.annotation]\n"
     ]
    },
    {
     "name": "stdout",
     "output_type": "stream",
     "text": [
      "[INFO] Finished with 4 measurement(s).\n",
      "[INFO] segment ['acc' 'gyr' 'mag' 'mic'] together\n",
      "[INFO] segment ['acc' 'gyr' 'mag' 'mic'] together\n",
      "[INFO] segment ['acc' 'gyr' 'mag' 'mic'] together\n",
      "[INFO] segment ['acc' 'gyr' 'mag' 'mic'] together\n",
      "Segment:   0%|          | 0/58148 [00:00<?, ?it/s]"
     ]
    },
    {
     "name": "stderr",
     "output_type": "stream",
     "text": [
      "/Users/lfl/opt/anaconda3/envs/tool-tracking_env/lib/python3.7/site-packages/numpy/core/_asarray.py:136: VisibleDeprecationWarning: Creating an ndarray from ragged nested sequences (which is a list-or-tuple of lists-or-tuples-or ndarrays with different lengths or shapes) is deprecated. If you meant to do this, you must specify 'dtype=object' when creating the ndarray\n",
      "  return array(a, dtype, copy=False, order=order, subok=True)\n"
     ]
    },
    {
     "name": "stdout",
     "output_type": "stream",
     "text": [
      "Segment: 100%|██████████| 58148/58148 [00:01<00:00, 30005.90it/s]\n"
     ]
    }
   ],
   "source": [
    "window_length=0.2 # unit in s\n",
    "overlap = 0.5 # unit in percent\n",
    "\n",
    "# clean and window data\n",
    "data_dict = mdr.query().filter_by(Tool == mytool).get()\n",
    "Xt, Xc, y = to_ts_data(data_dict, contextual_recarray_dtype)\n",
    "\n",
    "X = TS_Data(Xt, Xc)\n",
    "pipe = Pype([\n",
    "    ('segment', Segment(window_length=window_length, overlap=overlap, enforce_size=True, n=len(np.unique(Xc.desc))))\n",
    "])\n",
    "\n",
    "X_trans, y_trans = pipe.fit_transform(X, y)"
   ]
  },
  {
   "cell_type": "markdown",
   "metadata": {},
   "source": [
    "### 2.1 Filter windowed Data"
   ]
  },
  {
   "cell_type": "code",
   "execution_count": 16,
   "metadata": {},
   "outputs": [
    {
     "name": "stdout",
     "output_type": "stream",
     "text": [
      "[INFO] extract segmented ACC data\n",
      "[INFO] extract segmented GYR data\n"
     ]
    },
    {
     "name": "stderr",
     "output_type": "stream",
     "text": [
      "/Users/lfl/Developer/tool-tracking/fhg-utils/fhgutils/utils.py:235: VisibleDeprecationWarning: Creating an ndarray from ragged nested sequences (which is a list-or-tuple of lists-or-tuples-or ndarrays with different lengths or shapes) is deprecated. If you meant to do this, you must specify 'dtype=object' when creating the ndarray\n",
      "  y = np.array(y)[idx].tolist()\n"
     ]
    }
   ],
   "source": [
    "print(\"[INFO] extract segmented ACC data\")\n",
    "Xt_acc, Xc_acc, y_acc = filter_ts_data(X_trans, y_trans, filt={'desc': ['acc']})\n",
    "\n",
    "print(\"[INFO] extract segmented GYR data\")\n",
    "Xt_gyr, Xc_gyr, y_gyr = filter_ts_data(X_trans, y_trans, filt={'desc': ['gyr']})"
   ]
  },
  {
   "cell_type": "code",
   "execution_count": 17,
   "metadata": {},
   "outputs": [
    {
     "name": "stdout",
     "output_type": "stream",
     "text": [
      "[INFO] shape of ACC data is (14537,)\n",
      "[INFO] shape of GYR data is (14537,)\n",
      "[INFO] 14537 windows with 4 sample each (time stamps and 3 axis accelerometer)\n"
     ]
    }
   ],
   "source": [
    "print(\"[INFO] shape of ACC data is\", Xt_acc.shape)\n",
    "print(\"[INFO] shape of GYR data is\", Xt_gyr.shape)\n",
    "print(f\"[INFO] {Xt_acc.shape[0]} windows with {Xt_acc[0].shape[1]} sample each (time stamps and 3 axis accelerometer)\")"
   ]
  },
  {
   "cell_type": "markdown",
   "metadata": {},
   "source": [
    "You can discard the time column with e.g.:\n",
    "```python\n",
    "Xt_acc = Xt_acc[:,:,1:]\n",
    "```"
   ]
  },
  {
   "cell_type": "markdown",
   "metadata": {},
   "source": [
    "### 2.2 Plot the Toy Data\n",
    "> Note: In this example we deal with randomly generated toy data!"
   ]
  },
  {
   "cell_type": "code",
   "execution_count": 18,
   "metadata": {
    "scrolled": false
   },
   "outputs": [
    {
     "data": {
      "image/png": "[encoded data removed]",
      "text/plain": [
       "<Figure size 1728x288 with 1 Axes>"
      ]
     },
     "metadata": {
      "needs_background": "light"
     },
     "output_type": "display_data"
    },
    {
     "data": {
      "image/png": "[encoded data removed]",
      "text/plain": [
       "<Figure size 1728x288 with 1 Axes>"
      ]
     },
     "metadata": {
      "needs_background": "light"
     },
     "output_type": "display_data"
    }
   ],
   "source": [
    "import matplotlib.pyplot as plt\n",
    "\n",
    "# plot a sample\n",
    "plt.figure(figsize=(24,4))\n",
    "plt.title(f\"Single window\")\n",
    "t = Xt_acc[70][:, 0]\n",
    "x_win = Xt_acc[70][:, 1:]\n",
    "plt.plot(t, x_win)\n",
    "plt.xlabel('Time [a.u.]')\n",
    "plt.ylabel('sensor values acc')\n",
    "plt.show()\n",
    "\n",
    "# plot a measurement\n",
    "plotme = data_dict[\"01\"].acc.ts\n",
    "t = plotme[:, 0]\n",
    "x_mea = plotme[:, 1:]\n",
    "plt.figure(figsize=(24,4))\n",
    "plt.title(\"Measurement #01\")\n",
    "plt.plot(t, x_mea)\n",
    "plt.xlabel('Time [a.u.]')\n",
    "plt.ylabel('sensor values acc')\n",
    "plt.show()"
   ]
  },
  {
   "cell_type": "markdown",
   "metadata": {},
   "source": [
    "## 3. Preprocess the Data"
   ]
  },
  {
   "cell_type": "code",
   "execution_count": 19,
   "metadata": {},
   "outputs": [],
   "source": [
    "from fhgutils import filter_labels, one_label_per_window, summarize_labels"
   ]
  },
  {
   "cell_type": "markdown",
   "metadata": {},
   "source": [
    "### 3.1 `filter_labels`\n",
    "- filter out labels [-1]\n",
    "- also filter out whole windows, in case there is no majority label \n",
    "- e.g. window length of 5, labels could be [1,1,1,1,0] -> okay. but if [1,1,0,0,2] -> discard window."
   ]
  },
  {
   "cell_type": "code",
   "execution_count": 20,
   "metadata": {},
   "outputs": [
    {
     "name": "stdout",
     "output_type": "stream",
     "text": [
      "[INFO] label -1.0 with 156 samples\n",
      "[INFO] label 2.0 with 33479 samples\n",
      "[INFO] label 3.0 with 14105 samples\n",
      "[INFO] label 4.0 with 12243 samples\n",
      "[INFO] label 5.0 with 5628 samples\n",
      "[INFO] label 6.0 with 2575 samples\n",
      "[INFO] label 7.0 with 3470 samples\n",
      "[INFO] label 8.0 with 218472 samples\n",
      "[INFO] label 14.0 with 612 samples\n"
     ]
    }
   ],
   "source": [
    "values, counts = np.unique(y_acc, return_counts=True)\n",
    "for val, count in zip(values, counts):\n",
    "    print(f\"[INFO] label {val} with {count} samples\")"
   ]
  },
  {
   "cell_type": "code",
   "execution_count": 21,
   "metadata": {},
   "outputs": [
    {
     "name": "stdout",
     "output_type": "stream",
     "text": [
      "[INFO] original Xt: 14537 (20, 4)\n",
      "[INFO] filtered Xt: 14470 (20, 4)\n"
     ]
    }
   ],
   "source": [
    "Xt_acc_f, Xc_acc_f, y_acc_f = filter_labels(labels=[-1], Xt=Xt_acc, Xc=Xc_acc, y=y_acc)"
   ]
  },
  {
   "cell_type": "markdown",
   "metadata": {},
   "source": [
    "### 3.2 `one_label_per_window`\n",
    "- flatten labels of windows to the majority label\n",
    "- `[1,1,1,1,2]` -> 1. bad if you've got `[0,0,0,0,0,1,1,1,1,1,1]` -> 1, this creates anomalous samples of class 1"
   ]
  },
  {
   "cell_type": "code",
   "execution_count": 22,
   "metadata": {},
   "outputs": [
    {
     "name": "stdout",
     "output_type": "stream",
     "text": [
      "pre [2. 2. 2. 2. 2. 2. 2. 2. 2. 2. 2. 2. 2. 2. 2. 2. 2. 2. 2. 2.]\n",
      "flattened 8 labels: [ 2  3  4  5  6  7  8 14]\n",
      "post 2\n"
     ]
    }
   ],
   "source": [
    "print(\"pre\", y_acc_f[5])\n",
    "y_acc_f = one_label_per_window(y=y_acc_f)\n",
    "print(\"post\", y_acc_f[5])"
   ]
  },
  {
   "cell_type": "markdown",
   "metadata": {},
   "source": [
    "### 3.3 `summarize_labels`\n",
    "- some labels are basically very similar, like \"pull_trigger, pull_trigger_air\" for the Pneumatic Rivet Gun\n",
    "- same action, but once holding the tool in the air, once using it on a workpiece."
   ]
  },
  {
   "cell_type": "code",
   "execution_count": 23,
   "metadata": {},
   "outputs": [
    {
     "name": "stdout",
     "output_type": "stream",
     "text": [
      "[INFO] Summarized labels from [-1.  2.  3.  4.  5.  6.  7.  8. 14.] to [-1.  2.  3.  4.  5.  6.  7.  8. 14.]\n"
     ]
    }
   ],
   "source": [
    "summarylabels = {5: [0, 1]} \n",
    "y_acc_f_sum = summarize_labels(y_acc, summarylabels)"
   ]
  },
  {
   "cell_type": "code",
   "execution_count": null,
   "metadata": {},
   "outputs": [],
   "source": []
  }
 ],
 "metadata": {
  "kernelspec": {
   "display_name": "Python 3",
   "language": "python",
   "name": "python3"
  },
  "language_info": {
   "codemirror_mode": {
    "name": "ipython",
    "version": 3
   },
   "file_extension": ".py",
   "mimetype": "text/x-python",
   "name": "python",
   "nbconvert_exporter": "python",
   "pygments_lexer": "ipython3",
   "version": "3.7.7"
  },
  "latex_envs": {
   "LaTeX_envs_menu_present": true,
   "autoclose": false,
   "autocomplete": true,
   "bibliofile": "biblio.bib",
   "cite_by": "apalike",
   "current_citInitial": 1,
   "eqLabelWithNumbers": true,
   "eqNumInitial": 1,
   "hotkeys": {
    "equation": "Ctrl-E",
    "itemize": "Ctrl-I"
   },
   "labels_anchors": false,
   "latex_user_defs": false,
   "report_style_numbering": false,
   "user_envs_cfg": false
  },
  "toc": {
   "base_numbering": 1,
   "nav_menu": {},
   "number_sections": true,
   "sideBar": true,
   "skip_h1_title": false,
   "title_cell": "Table of Contents",
   "title_sidebar": "Contents",
   "toc_cell": false,
   "toc_position": {},
   "toc_section_display": true,
   "toc_window_display": false
  }
 },
 "nbformat": 4,
 "nbformat_minor": 2
}
